{
  "nbformat": 4,
  "nbformat_minor": 0,
  "metadata": {
    "colab": {
      "provenance": []
    },
    "kernelspec": {
      "name": "python3",
      "display_name": "Python 3"
    },
    "language_info": {
      "name": "python"
    }
  },
  "cells": [
    {
      "cell_type": "markdown",
      "source": [
        "**Cross validation** is a technique used in machine learning to evaluate the performance of a model on unseen data.\n",
        "\n",
        " It involves dividing the available data into **multiple folds** or subsets, using one of these folds as a validation set, and training the model on the remaining folds.\n",
        "\n",
        " This process is repeated multiple times, each time using a **different fold** as the validation set.\n",
        "\n",
        "The main purpose of cross validation is to prevent **overfitting**, which occurs when a model is trained too well on the training data and performs poorly on new, unseen data."
      ],
      "metadata": {
        "id": "-QNG0bnb69hd"
      }
    },
    {
      "cell_type": "code",
      "source": [
        "import numpy as np\n",
        "x= np.random.random(size=(25,5))\n",
        "y= np.random.randint(low=0, high=2, size=25)"
      ],
      "metadata": {
        "id": "yGdEfrCt-BUY"
      },
      "execution_count": null,
      "outputs": []
    },
    {
      "cell_type": "code",
      "source": [
        "x"
      ],
      "metadata": {
        "colab": {
          "base_uri": "https://localhost:8080/"
        },
        "id": "P8jIDyKYAMv5",
        "outputId": "a2f5dbc8-d260-4113-cc8b-b423c1fcd448"
      },
      "execution_count": null,
      "outputs": [
        {
          "output_type": "execute_result",
          "data": {
            "text/plain": [
              "array([[0.70694171, 0.85755582, 0.1668661 , 0.84917179, 0.679359  ],\n",
              "       [0.05115987, 0.0635987 , 0.61576352, 0.16435614, 0.4448402 ],\n",
              "       [0.6686221 , 0.45765603, 0.99804345, 0.26090886, 0.50677642],\n",
              "       [0.64468474, 0.07393022, 0.17446172, 0.69208036, 0.80863243],\n",
              "       [0.43209156, 0.78362291, 0.91977137, 0.02375418, 0.66648558],\n",
              "       [0.40851355, 0.70956925, 0.46158207, 0.10671268, 0.48284999],\n",
              "       [0.50573875, 0.75454238, 0.98629286, 0.01730493, 0.58955159],\n",
              "       [0.9652771 , 0.78290148, 0.47215798, 0.32194541, 0.16243117],\n",
              "       [0.889827  , 0.46104248, 0.6029787 , 0.83129087, 0.00115186],\n",
              "       [0.42267335, 0.88148862, 0.0918693 , 0.81189779, 0.63651084],\n",
              "       [0.67620134, 0.62218601, 0.1263444 , 0.32291956, 0.52287917],\n",
              "       [0.97663429, 0.43646731, 0.96823527, 0.77810318, 0.70718614],\n",
              "       [0.50791908, 0.80473291, 0.96456509, 0.33603748, 0.4022684 ],\n",
              "       [0.12675379, 0.85662202, 0.55167856, 0.26437727, 0.48203425],\n",
              "       [0.97411248, 0.92234617, 0.73110757, 0.96127976, 0.59110225],\n",
              "       [0.16870895, 0.61778952, 0.43847204, 0.01711522, 0.03957884],\n",
              "       [0.74471126, 0.55731557, 0.27602108, 0.38133112, 0.2457906 ],\n",
              "       [0.69590654, 0.83406986, 0.60013316, 0.68644229, 0.37739025],\n",
              "       [0.61741686, 0.77802979, 0.26458148, 0.4595831 , 0.10347034],\n",
              "       [0.79108132, 0.56965113, 0.72141621, 0.91930987, 0.66640083],\n",
              "       [0.24084913, 0.7844697 , 0.5133682 , 0.98147686, 0.49188449],\n",
              "       [0.87806683, 0.23215288, 0.34302009, 0.63221357, 0.689274  ],\n",
              "       [0.2814594 , 0.45371662, 0.70734791, 0.61421907, 0.7127053 ],\n",
              "       [0.85688797, 0.06439043, 0.83639817, 0.88581103, 0.79182273],\n",
              "       [0.64979981, 0.69242512, 0.22360798, 0.4796625 , 0.61293511]])"
            ]
          },
          "metadata": {},
          "execution_count": 24
        }
      ]
    },
    {
      "cell_type": "code",
      "source": [
        "y"
      ],
      "metadata": {
        "colab": {
          "base_uri": "https://localhost:8080/"
        },
        "id": "CCanbSXBAN0o",
        "outputId": "80f79cc5-75a6-443c-e6f6-d9e930230f46"
      },
      "execution_count": null,
      "outputs": [
        {
          "output_type": "execute_result",
          "data": {
            "text/plain": [
              "array([1, 1, 1, 1, 1, 1, 0, 1, 0, 1, 0, 1, 0, 0, 1, 1, 0, 1, 1, 1, 0, 1,\n",
              "       1, 0, 0])"
            ]
          },
          "metadata": {},
          "execution_count": 27
        }
      ]
    },
    {
      "cell_type": "code",
      "source": [
        "from sklearn.model_selection import train_test_split\n",
        "from sklearn.neighbors import KNeighborsClassifier\n",
        "from sklearn.metrics import accuracy_score\n",
        "\n",
        "x_train,x_test,y_train,y_test= train_test_split(x,y,test_size=0.2,random_state=1) #random_state=1/3/4/6/7\n",
        "knn= KNeighborsClassifier()\n",
        "knn.fit(x_train,y_train)\n",
        "y_pred= knn.predict(x_test)\n",
        "accuracy_score(y_test,y_pred)"
      ],
      "metadata": {
        "colab": {
          "base_uri": "https://localhost:8080/"
        },
        "id": "PlRfZ9s18UqY",
        "outputId": "0402fd24-6755-4658-ccbd-27c7e9f1d44d"
      },
      "execution_count": null,
      "outputs": [
        {
          "output_type": "execute_result",
          "data": {
            "text/plain": [
              "0.8"
            ]
          },
          "metadata": {},
          "execution_count": 45
        }
      ]
    },
    {
      "cell_type": "markdown",
      "source": [
        "**Differen**t accuracy for **different** random state\n",
        "\n",
        "To understand how **random_state** **works** so you must first understand **K-Fold** how works"
      ],
      "metadata": {
        "id": "2uNx0bCED6A-"
      }
    },
    {
      "cell_type": "code",
      "source": [
        "from sklearn.model_selection import KFold\n",
        "\n",
        "kf= KFold(n_splits=5)\n",
        "for train_index, test_index in kf.split(x):\n",
        "  print('train',train_index,'test',test_index)"
      ],
      "metadata": {
        "colab": {
          "base_uri": "https://localhost:8080/"
        },
        "id": "IVopBO8YD8gr",
        "outputId": "8ed38765-f57c-41d3-ac94-80cacb56850f"
      },
      "execution_count": null,
      "outputs": [
        {
          "output_type": "stream",
          "name": "stdout",
          "text": [
            "train [ 5  6  7  8  9 10 11 12 13 14 15 16 17 18 19 20 21 22 23 24] test [0 1 2 3 4]\n",
            "train [ 0  1  2  3  4 10 11 12 13 14 15 16 17 18 19 20 21 22 23 24] test [5 6 7 8 9]\n",
            "train [ 0  1  2  3  4  5  6  7  8  9 15 16 17 18 19 20 21 22 23 24] test [10 11 12 13 14]\n",
            "train [ 0  1  2  3  4  5  6  7  8  9 10 11 12 13 14 20 21 22 23 24] test [15 16 17 18 19]\n",
            "train [ 0  1  2  3  4  5  6  7  8  9 10 11 12 13 14 15 16 17 18 19] test [20 21 22 23 24]\n"
          ]
        }
      ]
    },
    {
      "cell_type": "markdown",
      "source": [
        "now **overcome** this problem with **cross val score()**"
      ],
      "metadata": {
        "id": "k5r5vYYkHeuw"
      }
    },
    {
      "cell_type": "code",
      "source": [
        "#For classification Problem\n",
        "from sklearn.model_selection import cross_val_score\n",
        "\n",
        "knn= KNeighborsClassifier()\n",
        "cross_val_score(knn, x, y, cv=10, scoring='accuracy')\n"
      ],
      "metadata": {
        "colab": {
          "base_uri": "https://localhost:8080/"
        },
        "id": "5J-DEzJIHwnA",
        "outputId": "0fee22d4-ae80-4288-f812-3b6566615a71"
      },
      "execution_count": null,
      "outputs": [
        {
          "output_type": "stream",
          "name": "stderr",
          "text": [
            "/usr/local/lib/python3.10/dist-packages/sklearn/model_selection/_split.py:700: UserWarning: The least populated class in y has only 9 members, which is less than n_splits=10.\n",
            "  warnings.warn(\n"
          ]
        },
        {
          "output_type": "execute_result",
          "data": {
            "text/plain": [
              "array([1.        , 0.33333333, 1.        , 1.        , 0.66666667,\n",
              "       1.        , 1.        , 0.5       , 1.        , 1.        ])"
            ]
          },
          "metadata": {},
          "execution_count": 40
        }
      ]
    },
    {
      "cell_type": "code",
      "source": [
        "#For Regression Problem\n",
        "from sklearn.model_selection import cross_val_score\n",
        "\n",
        "knn= KNeighborsClassifier()\n",
        "cross_val_score(knn, x, y, cv=10, scoring='r2')"
      ],
      "metadata": {
        "colab": {
          "base_uri": "https://localhost:8080/"
        },
        "id": "m81OQPxnJQQd",
        "outputId": "0d93cc82-e06f-45f8-cf59-cb7f2a0235f3"
      },
      "execution_count": null,
      "outputs": [
        {
          "output_type": "stream",
          "name": "stderr",
          "text": [
            "/usr/local/lib/python3.10/dist-packages/sklearn/model_selection/_split.py:700: UserWarning: The least populated class in y has only 9 members, which is less than n_splits=10.\n",
            "  warnings.warn(\n"
          ]
        },
        {
          "output_type": "execute_result",
          "data": {
            "text/plain": [
              "array([ 1. , -2. ,  1. ,  1. , -0.5,  1. ,  1. , -1. ,  1. ,  1. ])"
            ]
          },
          "metadata": {},
          "execution_count": 46
        }
      ]
    },
    {
      "cell_type": "markdown",
      "source": [
        "After **selecting** a **CV** value."
      ],
      "metadata": {
        "id": "M8VnXLs_Jdl0"
      }
    },
    {
      "cell_type": "code",
      "source": [
        "x_train,x_test,y_train,y_test= train_test_split(x,y,test_size=0.2,random_state=3) #random_state=1/3/4/6/7\n",
        "knn= KNeighborsClassifier()\n",
        "knn.fit(x_train,y_train)\n",
        "y_pred= knn.predict(x_test)\n",
        "accuracy_score(y_test,y_pred)"
      ],
      "metadata": {
        "colab": {
          "base_uri": "https://localhost:8080/"
        },
        "id": "_zBLcpPTJnOz",
        "outputId": "bd8e5fb6-ee4e-4ca5-fd7f-6d075551aa96"
      },
      "execution_count": null,
      "outputs": [
        {
          "output_type": "execute_result",
          "data": {
            "text/plain": [
              "1.0"
            ]
          },
          "metadata": {},
          "execution_count": 47
        }
      ]
    }
  ]
}